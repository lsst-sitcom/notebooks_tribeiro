{
 "cells": [
  {
   "cell_type": "markdown",
   "id": "aaacfb4e-ea1f-43a8-bd1c-943eff1a3ddf",
   "metadata": {},
   "source": [
    "# SITCOM-318: Stuttered Image verification on-sky\n",
    "\n",
    "This notebook is designed to execute the Stuttered Image verification test.\n",
    "\n",
    "It does so by sending Scripts to the ScriptQueue that will perform the necessary operations."
   ]
  },
  {
   "cell_type": "code",
   "execution_count": null,
   "id": "0399e638-8ebe-41fa-93c2-f232a761acfa",
   "metadata": {},
   "outputs": [],
   "source": [
    "import yaml\n",
    "import logging\n",
    "import jsonschema\n",
    "\n",
    "from lsst.ts import salobj\n",
    "from lsst.ts.idl.enums.ScriptQueue import Location, SalIndex"
   ]
  },
  {
   "cell_type": "code",
   "execution_count": null,
   "id": "4fff2c05-9c51-42dc-963e-e03232524b27",
   "metadata": {},
   "outputs": [],
   "source": [
    "domain = salobj.Domain()"
   ]
  },
  {
   "cell_type": "code",
   "execution_count": null,
   "id": "2624d339-6930-4564-bb4c-632e0c876692",
   "metadata": {},
   "outputs": [],
   "source": [
    "sq_remote = salobj.Remote(\n",
    "    domain, \n",
    "    \"ScriptQueue\", \n",
    "    index=SalIndex.AUX_TEL\n",
    ")"
   ]
  },
  {
   "cell_type": "code",
   "execution_count": null,
   "id": "bd1a33ea-275e-4c8f-b6db-1ae4c7b40d01",
   "metadata": {},
   "outputs": [],
   "source": [
    "await sq_remote.start_task"
   ]
  },
  {
   "cell_type": "markdown",
   "id": "7ff883be-1994-49a0-bf9e-28e0263493bc",
   "metadata": {},
   "source": [
    "## Scripts Configuration\n",
    "\n"
   ]
  },
  {
   "cell_type": "code",
   "execution_count": null,
   "id": "8c1ab4b6-6b97-42d5-a832-2a7eeba0f674",
   "metadata": {},
   "outputs": [],
   "source": [
    "script_description=\"Executing SITCOM-318\""
   ]
  },
  {
   "cell_type": "code",
   "execution_count": null,
   "id": "e4f687bc-7393-4cb5-9f34-ff4a5045b6f7",
   "metadata": {},
   "outputs": [],
   "source": [
    "track_target_is_standard = True\n",
    "track_target_script_path = \"auxtel/track_target.py\"\n",
    "track_target_script_config = dict(\n",
    "    find_target=dict(\n",
    "        az=180.0,\n",
    "        el=70.0,\n",
    "        mag_limit=8.0,\n",
    "    ),\n",
    "    offset=dict(\n",
    "        x=-10.0,\n",
    "        y=10.0,\n",
    "    )\n",
    ")"
   ]
  },
  {
   "cell_type": "code",
   "execution_count": null,
   "id": "eeb3fa6f-8b26-4298-9977-2c171605daba",
   "metadata": {},
   "outputs": [],
   "source": [
    "take_stuttered_is_standard = True\n",
    "take_stuttered_script_path = \"auxtel/take_stuttered_latiss.py\"\n",
    "take_stuttered_script_config = dict(\n",
    "    n_images=10,\n",
    "    exp_time=2,\n",
    "    program=\"SITCOM-318\",\n",
    "    reason=\"Stuttered_Imaging\",\n",
    ")"
   ]
  },
  {
   "cell_type": "markdown",
   "id": "4f36ca8a-5176-4e7a-8d08-7e4379700f04",
   "metadata": {},
   "source": [
    "## Validate configuration\n",
    "\n"
   ]
  },
  {
   "cell_type": "markdown",
   "id": "441f7d20-d7ae-4df6-a9ce-c5fb4956818d",
   "metadata": {},
   "source": [
    "### Track target"
   ]
  },
  {
   "cell_type": "code",
   "execution_count": null,
   "id": "0e9281f2-adfb-43b3-92a2-344dca7ffb98",
   "metadata": {},
   "outputs": [],
   "source": [
    "is_standard = track_target_is_standard\n",
    "script_path = track_target_script_path\n",
    "script_config = track_target_script_config"
   ]
  },
  {
   "cell_type": "code",
   "execution_count": null,
   "id": "29e4a3d6-c644-465b-9709-1c83b6f48ca6",
   "metadata": {},
   "outputs": [],
   "source": [
    "sq_remote.evt_configSchema.flush()\n",
    "await sq_remote.cmd_showSchema.set_start(\n",
    "    isStandard=is_standard,\n",
    "    path=script_path,\n",
    ")\n",
    "script_schema = await sq_remote.evt_configSchema.next(flush=False, timeout=5)"
   ]
  },
  {
   "cell_type": "code",
   "execution_count": null,
   "id": "3ee1b3fb-bf8c-4c6c-b807-d244505767b5",
   "metadata": {},
   "outputs": [],
   "source": [
    "config_validator = salobj.DefaultingValidator(schema=yaml.safe_load(script_schema.configSchema))"
   ]
  },
  {
   "cell_type": "code",
   "execution_count": null,
   "id": "60dd528d-8427-4ed8-91a6-38545c9bd8eb",
   "metadata": {},
   "outputs": [],
   "source": [
    "validation_err = None\n",
    "\n",
    "try:\n",
    "    config_validator.validate(script_config)\n",
    "except jsonschema.ValidationError as e:\n",
    "    validation_err = e.message\n",
    "\n",
    "if validation_err is not None:\n",
    "    raise RuntimeError(validation_err)\n",
    "else:\n",
    "    print(\"Configuration OK!\")"
   ]
  },
  {
   "cell_type": "markdown",
   "id": "98e1c103-ed00-4bba-8fd3-98746a4ab309",
   "metadata": {},
   "source": [
    "### Take Stuttered"
   ]
  },
  {
   "cell_type": "code",
   "execution_count": null,
   "id": "1e69a5e0-0c4e-40fd-a153-b2a52eef103b",
   "metadata": {},
   "outputs": [],
   "source": [
    "is_standard = take_stuttered_is_standard\n",
    "script_path = take_stuttered_script_path\n",
    "script_config = take_stuttered_script_config"
   ]
  },
  {
   "cell_type": "code",
   "execution_count": null,
   "id": "392d0822-ddc0-4318-86c8-1a3b9a644b69",
   "metadata": {},
   "outputs": [],
   "source": [
    "sq_remote.evt_configSchema.flush()\n",
    "await sq_remote.cmd_showSchema.set_start(\n",
    "    isStandard=is_standard,\n",
    "    path=script_path,\n",
    ")\n",
    "script_schema = await sq_remote.evt_configSchema.next(flush=False, timeout=5)"
   ]
  },
  {
   "cell_type": "code",
   "execution_count": null,
   "id": "0e514dba-8ad8-46ee-af8e-5bd9975fa4d0",
   "metadata": {},
   "outputs": [],
   "source": [
    "config_validator = salobj.DefaultingValidator(schema=yaml.safe_load(script_schema.configSchema))"
   ]
  },
  {
   "cell_type": "code",
   "execution_count": null,
   "id": "382887b7-9467-425b-bff4-711449e30da2",
   "metadata": {},
   "outputs": [],
   "source": [
    "validation_err = None\n",
    "\n",
    "try:\n",
    "    config_validator.validate(script_config)\n",
    "except jsonschema.ValidationError as e:\n",
    "    validation_err = e.message\n",
    "\n",
    "if validation_err is not None:\n",
    "    raise RuntimeError(validation_err)\n",
    "else:\n",
    "    print(\"Configuration OK!\")"
   ]
  },
  {
   "cell_type": "markdown",
   "id": "d3a2ff82-718c-42e4-84f2-0c456beab8e9",
   "metadata": {},
   "source": [
    "## Adding Script to ScriptQueue\n",
    "\n",
    "The next cell adds the Script to the ScriptQueue and returns as soon as the script is queued."
   ]
  },
  {
   "cell_type": "code",
   "execution_count": null,
   "id": "213a7a28-c831-4195-9663-7996ffa6dab4",
   "metadata": {},
   "outputs": [],
   "source": [
    "is_standard = track_target_is_standard\n",
    "script_path = track_target_script_path\n",
    "script_config = track_target_script_config"
   ]
  },
  {
   "cell_type": "code",
   "execution_count": null,
   "id": "733661e5-6e00-4a1e-996b-51739797fb33",
   "metadata": {},
   "outputs": [],
   "source": [
    "ack = await sq_remote.cmd_add.set_start(\n",
    "    isStandard=is_standard,\n",
    "    path=script_path,\n",
    "    descr=script_description,\n",
    "    config=yaml.safe_dump(script_config),\n",
    "    location=Location.LAST,\n",
    "    logLevel=logging.DEBUG,\n",
    ")"
   ]
  },
  {
   "cell_type": "code",
   "execution_count": null,
   "id": "e02407e0-7221-4c38-bf6c-51fb620294a2",
   "metadata": {},
   "outputs": [],
   "source": [
    "is_standard = take_stuttered_is_standard\n",
    "script_path = take_stuttered_script_path\n",
    "script_config = take_stuttered_script_config"
   ]
  },
  {
   "cell_type": "code",
   "execution_count": null,
   "id": "8676b9d4-0e07-4936-b9f5-6b9d79adc604",
   "metadata": {},
   "outputs": [],
   "source": [
    "ack = await sq_remote.cmd_add.set_start(\n",
    "    isStandard=is_standard,\n",
    "    path=script_path,\n",
    "    descr=script_description,\n",
    "    config=yaml.safe_dump(script_config),\n",
    "    location=Location.LAST,\n",
    "    logLevel=logging.DEBUG,\n",
    ")"
   ]
  },
  {
   "cell_type": "code",
   "execution_count": null,
   "id": "37fce3c1-21b8-4e59-a908-f69bebc021b9",
   "metadata": {},
   "outputs": [],
   "source": []
  },
  {
   "cell_type": "code",
   "execution_count": null,
   "id": "884ba1e6-c2bc-4897-bced-71681ae8354f",
   "metadata": {},
   "outputs": [],
   "source": []
  }
 ],
 "metadata": {
  "kernelspec": {
   "display_name": "LSST",
   "language": "python",
   "name": "lsst"
  },
  "language_info": {
   "codemirror_mode": {
    "name": "ipython",
    "version": 3
   },
   "file_extension": ".py",
   "mimetype": "text/x-python",
   "name": "python",
   "nbconvert_exporter": "python",
   "pygments_lexer": "ipython3",
   "version": "3.8.13"
  }
 },
 "nbformat": 4,
 "nbformat_minor": 5
}
