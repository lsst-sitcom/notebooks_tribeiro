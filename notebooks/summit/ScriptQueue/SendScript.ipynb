{
 "cells": [
  {
   "cell_type": "markdown",
   "id": "9202a2e4-232d-4cef-ac90-0dc7fff2a0a2",
   "metadata": {},
   "source": [
    "# Send Script to the AuxTel ScriptQueue\n",
    "\n",
    "This notebook shows how to send a script to the script queue.\n",
    "\n",
    "Here we are simply queuing the script and not waiting for it to finish executing or anything alike.\n",
    "You can queue multiple scripts in the ScriptQueue at the same time and they will be processes one at a time."
   ]
  },
  {
   "cell_type": "code",
   "execution_count": null,
   "id": "e001633d-cb93-460e-af26-47fa7eca9e3c",
   "metadata": {},
   "outputs": [],
   "source": [
    "import yaml\n",
    "import logging\n",
    "\n",
    "from lsst.ts import salobj\n",
    "from lsst.ts.idl.enums.ScriptQueue import Location, SalIndex"
   ]
  },
  {
   "cell_type": "code",
   "execution_count": null,
   "id": "7d5d1db3-fe5e-4c93-b946-2d5bb2df9e34",
   "metadata": {},
   "outputs": [],
   "source": [
    "domain = salobj.Domain()"
   ]
  },
  {
   "cell_type": "code",
   "execution_count": null,
   "id": "26023bcf-dc57-4882-86d6-99a37d1cf43a",
   "metadata": {},
   "outputs": [],
   "source": [
    "sq_remote = salobj.Remote(\n",
    "    domain, \n",
    "    \"ScriptQueue\", \n",
    "    index=SalIndex.AUX_TEL\n",
    ")"
   ]
  },
  {
   "cell_type": "code",
   "execution_count": null,
   "id": "b7f199a2-32af-44fc-8d14-b112fafed01e",
   "metadata": {},
   "outputs": [],
   "source": [
    "await sq_remote.start_task"
   ]
  },
  {
   "cell_type": "markdown",
   "id": "c49872c3-4b3e-4156-a588-fb3d849a858f",
   "metadata": {},
   "source": [
    "## Script Configuration\n",
    "\n",
    "The next cell setup the script configuration as well as some parameters, like the name of the script and whether the script is standard or not.\n",
    "\n",
    "Alternatively, we also set a \"description\" for the script execution."
   ]
  },
  {
   "cell_type": "code",
   "execution_count": null,
   "id": "44856ce5-da27-49cb-b8a2-929c639e90d3",
   "metadata": {},
   "outputs": [],
   "source": [
    "is_standard = True\n",
    "script_path = \"auxtel/take_image_latiss.py\"\n",
    "script_config = dict(\n",
    "    exp_times=1.0,\n",
    "    nimages=2,\n",
    "    image_type=\"DARK\",\n",
    "    reason=\"TEST\",\n",
    ")\n",
    "script_description=\"Testing SITCOM-1234\""
   ]
  },
  {
   "cell_type": "markdown",
   "id": "8acb7aa4-a656-4165-b4ca-73394e7be40c",
   "metadata": {},
   "source": [
    "## Adding Script to ScriptQueue\n",
    "\n",
    "The next cell adds the Script to the ScriptQueue and returns as soon as the script is queued."
   ]
  },
  {
   "cell_type": "code",
   "execution_count": null,
   "id": "cc445c20-187c-41f0-b90c-2685fe196c9d",
   "metadata": {},
   "outputs": [],
   "source": [
    "await sq_remote.cmd_add.set_start(\n",
    "    isStandard=is_standard,\n",
    "    path=script_path,\n",
    "    descr=script_description,\n",
    "    config=yaml.safe_dump(take_images_script_config),\n",
    "    location=Location.LAST,\n",
    "    logLevel=logging.DEBUG,\n",
    ")"
   ]
  },
  {
   "cell_type": "code",
   "execution_count": null,
   "id": "31891006-168f-407f-be3e-61e860cbfa10",
   "metadata": {},
   "outputs": [],
   "source": []
  }
 ],
 "metadata": {
  "kernelspec": {
   "display_name": "LSST",
   "language": "python",
   "name": "lsst"
  },
  "language_info": {
   "codemirror_mode": {
    "name": "ipython",
    "version": 3
   },
   "file_extension": ".py",
   "mimetype": "text/x-python",
   "name": "python",
   "nbconvert_exporter": "python",
   "pygments_lexer": "ipython3",
   "version": "3.8.13"
  }
 },
 "nbformat": 4,
 "nbformat_minor": 5
}
