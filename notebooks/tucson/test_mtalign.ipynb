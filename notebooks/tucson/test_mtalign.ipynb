{
 "cells": [
  {
   "cell_type": "markdown",
   "id": "1ed43ddd-1ad3-4d71-bd46-eac2be292120",
   "metadata": {},
   "source": [
    "# Initial optical alignment procedure.\n",
    "\n",
    "This notebook implementats the initial optical alignment procedure for the Main Telescope.\n",
    "\n",
    "This procedure consist in using the Laser Tracker (MTAlignment) component to measure the position of M2 and Camera with respect to M1M3 and offseting them such that they are as close to alignment as possible before going on sky.\n",
    "\n",
    "This implementation considers that the MTCS components are ready and in position before starting, e.g., it will not move the telescope and/or do any additional verification that they are ready.\n",
    "We may want to improve this in a later stage.\n"
   ]
  },
  {
   "cell_type": "code",
   "execution_count": null,
   "id": "1fb973c0-0166-44b7-85d0-63431a243549",
   "metadata": {},
   "outputs": [],
   "source": [
    "import asyncio\n",
    "\n",
    "from lsst.ts import salobj\n",
    "from lsst.ts.observatory.control.maintel import MTCS"
   ]
  },
  {
   "cell_type": "markdown",
   "id": "7a80ee86-4156-4245-9cd7-f8894e3d1a42",
   "metadata": {},
   "source": [
    "## Startup communication with the MTAlignment and MTCS"
   ]
  },
  {
   "cell_type": "code",
   "execution_count": null,
   "id": "e95a32b0-4595-4f82-8d00-d8da03e81e4d",
   "metadata": {},
   "outputs": [],
   "source": [
    "domain = salobj.Domain()"
   ]
  },
  {
   "cell_type": "code",
   "execution_count": null,
   "id": "65effb63-175e-48d7-953e-b35ebb5e5ec4",
   "metadata": {},
   "outputs": [],
   "source": [
    "mtalign = salobj.Remote(domain, \"MTAlignment\")"
   ]
  },
  {
   "cell_type": "code",
   "execution_count": null,
   "id": "03dd9296-f3dd-4cc0-bc83-0232bab7a9f5",
   "metadata": {},
   "outputs": [],
   "source": [
    "await mtalign.start_task"
   ]
  },
  {
   "cell_type": "code",
   "execution_count": null,
   "id": "018423eb-895a-41ff-8da2-f2d28a867e26",
   "metadata": {
    "tags": []
   },
   "outputs": [],
   "source": [
    "mtcs = MTCS(domain)"
   ]
  },
  {
   "cell_type": "code",
   "execution_count": null,
   "id": "c9176f00-e649-4813-87a4-cec0fdd58752",
   "metadata": {},
   "outputs": [],
   "source": [
    "await mtcs.start_task"
   ]
  },
  {
   "cell_type": "code",
   "execution_count": null,
   "id": "829ce235-3915-4be8-b809-2a11af850b25",
   "metadata": {},
   "outputs": [],
   "source": [
    "mtcs.set_rem_loglevel(100)"
   ]
  },
  {
   "cell_type": "markdown",
   "id": "33d87a57-d072-4e28-b565-b93e655c8a4e",
   "metadata": {},
   "source": [
    "## Check liveliness of the system"
   ]
  },
  {
   "cell_type": "code",
   "execution_count": null,
   "id": "d5e2828f-878f-49d1-a464-d7e2d8a39ce7",
   "metadata": {},
   "outputs": [],
   "source": [
    "await mtalign.evt_heartbeat.next(flush=True, timeout=5)"
   ]
  },
  {
   "cell_type": "code",
   "execution_count": null,
   "id": "3849d6fd-7227-43d1-91ef-287daeaec425",
   "metadata": {},
   "outputs": [],
   "source": [
    "await mtcs.assert_liveliness()"
   ]
  },
  {
   "cell_type": "markdown",
   "id": "7de20dbe-b663-4640-b4e2-db8d7a0cfc93",
   "metadata": {},
   "source": [
    "## Setup the laser tracker\n",
    "\n",
    "On the current version of the system (xml 12.0.0), the MTAlignment CSC has no way to report the state of the laser tracker.\n",
    "In general we would want to check that the laser is powered on, using an event, and then proceed to power it on if needed.\n",
    "Then, once powered on we would want to wait until it is ready to operate.\n",
    "\n",
    "Because this is not possible yet we have to make sure the laser tracker is up and running \"manually\" before proceeding.\n",
    "For that, we leave here the cells required to enabled the MTAlignment CSC, power it on than wait 60s before proceeding.\n",
    "\n",
    "The following might fail is the laser is already on or if it takes longer than 60s to warm up, so continue with caution.\n"
   ]
  },
  {
   "cell_type": "code",
   "execution_count": null,
   "id": "d548cf46-68eb-495e-98a1-76d63abe3e85",
   "metadata": {},
   "outputs": [],
   "source": [
    "await salobj.set_summary_state(mtalign, salobj.State.ENABLED)"
   ]
  },
  {
   "cell_type": "code",
   "execution_count": null,
   "id": "3d12926a-4c09-426a-ae03-ff0cc3ed17cd",
   "metadata": {},
   "outputs": [],
   "source": [
    "await mtalign.cmd_setLogLevel.set_start(level=20)"
   ]
  },
  {
   "cell_type": "code",
   "execution_count": null,
   "id": "d151c5d7-8e07-4130-9f54-e37defd650c4",
   "metadata": {},
   "outputs": [],
   "source": [
    "await mtalign.cmd_laserPower.set_start(power=1)"
   ]
  },
  {
   "cell_type": "code",
   "execution_count": null,
   "id": "17a7ed4a-ee80-4627-b5e9-289d771f5786",
   "metadata": {},
   "outputs": [],
   "source": [
    "await asyncio.sleep(60.)"
   ]
  },
  {
   "cell_type": "markdown",
   "id": "fb628d0e-2372-449d-8cf4-a5e46673b0cf",
   "metadata": {},
   "source": [
    "## Align M2\n",
    "\n",
    "Alignment of M2 uses the M2 Hexapod."
   ]
  },
  {
   "cell_type": "code",
   "execution_count": null,
   "id": "41f7e4ac-50fa-4265-a23d-a520fc87c236",
   "metadata": {},
   "outputs": [],
   "source": [
    "mtalign.evt_offsetsPublish.flush()\n",
    "await mtalign.cmd_align.set_start(target=1, timeout=5)\n",
    "m2_offset = await mtalign.evt_offsetsPublish.next(flush=False, timeout=5)"
   ]
  },
  {
   "cell_type": "code",
   "execution_count": null,
   "id": "79277d71-6089-4452-bab8-ab43f9c4d6d5",
   "metadata": {},
   "outputs": [],
   "source": [
    "print(m2_offset.dX*1e6, m2_offset.dY*1e6, m2_offset.dZ*1e6, m2_offset.dRX*3600., m2_offset.dRY*3600., m2_offset.dRZ*3600.)"
   ]
  },
  {
   "cell_type": "code",
   "execution_count": null,
   "id": "9dafcb10-c28a-4394-8459-2db1f09a6137",
   "metadata": {},
   "outputs": [],
   "source": [
    "abs(m2_offset.dX) > 1e-7"
   ]
  },
  {
   "cell_type": "code",
   "execution_count": null,
   "id": "5156859d-dfcf-4cc3-b652-6af7e33a318b",
   "metadata": {},
   "outputs": [],
   "source": [
    "tolerance_m = 1.0e-7\n",
    "tolerance_deg = 5.0/3600.0\n",
    "max_iter = 10\n",
    "\n",
    "for n_iter in range(max_iter):\n",
    "    # Get M2 Hexapod offset\n",
    "    print(\"Measure m2 hexapod alignment.\")\n",
    "    mtalign.evt_offsetsPublish.flush()\n",
    "    await mtalign.cmd_align.set_start(target=1, timeout=5)\n",
    "    m2_offset = await mtalign.evt_offsetsPublish.next(flush=False, timeout=5)\n",
    "    corrections = [\n",
    "        m2_offset.dX*1e6 if abs(m2_offset.dX) > tolerance_m else 0.0,\n",
    "        m2_offset.dY*1e6 if abs(m2_offset.dY) > tolerance_m else 0.0,\n",
    "        m2_offset.dZ*1e6 if abs(m2_offset.dZ) > tolerance_m else 0.0,\n",
    "        m2_offset.dRX if abs(m2_offset.dRX) > tolerance_deg else 0.0,\n",
    "        m2_offset.dRY if abs(m2_offset.dRX) > tolerance_deg else 0.0,\n",
    "    ]\n",
    "\n",
    "    if all([abs(corr) > 0.0 for corr in corrections]):\n",
    "        print(f\"[{n_iter+1:02d}:{max_iter:02d}]: Applying corrections: {corrections}\")\n",
    "        await mtcs.offset_m2_hexapod(\n",
    "            x=-corrections[0],\n",
    "            y=-corrections[1],\n",
    "            z=-corrections[2],\n",
    "            u=-corrections[3],\n",
    "            v=-corrections[4],\n",
    "        )\n",
    "    else:\n",
    "        measured_corrections = [\n",
    "            m2_offset.dX*1e6,\n",
    "            m2_offset.dY*1e6,\n",
    "            m2_offset.dZ*1e6,\n",
    "            m2_offset.dRX,\n",
    "            m2_offset.dRY,\n",
    "        ]        \n",
    "        print(f\"Correction completed: {measured_corrections}!\")\n",
    "        break"
   ]
  },
  {
   "cell_type": "markdown",
   "id": "44b96b26-3184-4c3e-80ef-45bf9f98dfe5",
   "metadata": {},
   "source": [
    "## Align Camera\n"
   ]
  },
  {
   "cell_type": "code",
   "execution_count": null,
   "id": "30ca6b4c-99f9-4fc8-be3d-6d84bc9eb557",
   "metadata": {},
   "outputs": [],
   "source": [
    "tolerance_m = 1.0e-7\n",
    "tolerance_deg = 5.0/3600.0\n",
    "max_iter = 10\n",
    "\n",
    "for n_iter in range(max_iter):\n",
    "    # Get Camera Hexapod offset\n",
    "    print(\"Measure camera hexapod alignment.\")\n",
    "    mtalign.evt_offsetsPublish.flush()\n",
    "    await mtalign.cmd_align.set_start(target=3, timeout=5)\n",
    "    cam_offset = await mtalign.evt_offsetsPublish.next(flush=False, timeout=5)\n",
    "    corrections = [\n",
    "        cam_offset.dX*1e6 if abs(cam_offset.dX) > tolerance_m else 0.0,\n",
    "        cam_offset.dY*1e6 if abs(cam_offset.dY) > tolerance_m else 0.0,\n",
    "        cam_offset.dZ*1e6 if abs(cam_offset.dZ) > tolerance_m else 0.0,\n",
    "        cam_offset.dRX if abs(cam_offset.dRX) > tolerance_deg else 0.0,\n",
    "        cam_offset.dRY if abs(cam_offset.dRX) > tolerance_deg else 0.0,\n",
    "    ]\n",
    "\n",
    "    if all([abs(corr) > 0.0 for corr in corrections]):\n",
    "        print(f\"[{n_iter+1:02d}:{max_iter:02d}]: Applying corrections: {corrections}\")\n",
    "        await mtcs.offset_camera_hexapod(\n",
    "            x=-corrections[0],\n",
    "            y=-corrections[1],\n",
    "            z=-corrections[2],\n",
    "            u=-corrections[3],\n",
    "            v=-corrections[4],\n",
    "        )\n",
    "    else:\n",
    "        measured_corrections = [\n",
    "            cam_offset.dX*1e6,\n",
    "            cam_offset.dY*1e6,\n",
    "            cam_offset.dZ*1e6,\n",
    "            cam_offset.dRX,\n",
    "            cam_offset.dRY,\n",
    "        ]        \n",
    "        print(f\"Correction completed: {measured_corrections}!\")\n",
    "        break"
   ]
  },
  {
   "cell_type": "code",
   "execution_count": null,
   "id": "dedbcbc4-d0ca-4639-839e-4b4411aed648",
   "metadata": {},
   "outputs": [],
   "source": []
  }
 ],
 "metadata": {
  "kernelspec": {
   "display_name": "LSST",
   "language": "python",
   "name": "lsst"
  },
  "language_info": {
   "codemirror_mode": {
    "name": "ipython",
    "version": 3
   },
   "file_extension": ".py",
   "mimetype": "text/x-python",
   "name": "python",
   "nbconvert_exporter": "python",
   "pygments_lexer": "ipython3",
   "version": "3.10.4"
  }
 },
 "nbformat": 4,
 "nbformat_minor": 5
}
